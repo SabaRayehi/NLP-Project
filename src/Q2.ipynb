{
  "cells": [
    {
      "cell_type": "markdown",
      "metadata": {
        "id": "CGCbXT2uqhcN"
      },
      "source": [
        "# NLP Project: Toxic Comment Classification"
      ]
    },
    {
      "cell_type": "code",
      "execution_count": 74,
      "metadata": {
        "ExecuteTime": {
          "end_time": "2018-12-07T00:53:04.959800Z",
          "start_time": "2018-12-07T00:53:03.578688Z"
        },
        "id": "uKsZl1Hjqhcc"
      },
      "outputs": [],
      "source": [
        "import pandas as pd\n",
        "import numpy as np\n",
        "import re\n",
        "import string\n",
        "from nltk.stem.wordnet import WordNetLemmatizer\n",
        "from nltk.corpus import stopwords\n",
        "from timeit import default_timer as timer\n",
        "\n",
        "import matplotlib.pyplot as plt\n",
        "import seaborn as sns\n",
        "\n",
        "from sklearn.feature_extraction.text import TfidfVectorizer\n",
        "from sklearn.linear_model import LogisticRegression\n",
        "from sklearn.naive_bayes import MultinomialNB\n",
        "from sklearn.svm import LinearSVC\n",
        "from sklearn.ensemble import RandomForestClassifier\n",
        "from sklearn.tree import DecisionTreeClassifier\n",
        "\n",
        "from sklearn.metrics import accuracy_score, f1_score, recall_score, precision_score, roc_auc_score, roc_curve\n",
        "from sklearn.metrics import confusion_matrix\n",
        "from sklearn.model_selection import cross_val_score\n",
        "from sklearn.metrics import fbeta_score\n",
        "from statistics import mean\n",
        "from sklearn.metrics import hamming_loss\n",
        "from sklearn.model_selection import StratifiedKFold\n",
        "from sklearn.model_selection import GridSearchCV\n",
        "from sklearn.model_selection import ShuffleSplit\n",
        "from sklearn.model_selection import learning_curve\n",
        "\n",
        "from sklearn.metrics import roc_auc_score, confusion_matrix\n",
        "import statistics\n",
        "from sklearn.metrics import recall_score\n",
        "\n",
        "from wordcloud import WordCloud\n",
        "from collections import Counter\n",
        "\n",
        "from sklearn.pipeline import Pipeline\n",
        "\n",
        "from sklearn.ensemble import AdaBoostClassifier\n",
        "from sklearn.ensemble import BaggingClassifier\n",
        "from sklearn.ensemble import GradientBoostingClassifier\n",
        "from sklearn.ensemble import VotingClassifier\n",
        "import xgboost as xgb\n",
        "import warnings\n",
        "warnings.filterwarnings('ignore')\n",
        "\n",
        "%matplotlib inline"
      ]
    },
    {
      "cell_type": "code",
      "execution_count": 75,
      "metadata": {
        "ExecuteTime": {
          "end_time": "2018-12-07T00:53:07.095024Z",
          "start_time": "2018-12-07T00:53:05.290683Z"
        },
        "id": "3GA4fwNrqhch"
      },
      "outputs": [],
      "source": [
        "train = pd.read_csv(\"data/train.csv\")\n",
        "test = pd.read_csv(\"data/test.csv\")\n",
        "test_y = pd.read_csv(\"data/test_labels.csv\")"
      ]
    },
    {
      "cell_type": "code",
      "execution_count": 79,
      "metadata": {
        "colab": {
          "base_uri": "https://localhost:8080/"
        },
        "id": "96j8ARbrqhco",
        "outputId": "509f8134-03f1-4b51-894c-3f76dad75953"
      },
      "outputs": [
        {
          "output_type": "execute_result",
          "data": {
            "text/plain": [
              "(799, 8)"
            ]
          },
          "metadata": {},
          "execution_count": 79
        }
      ],
      "source": [
        "train.shape"
      ]
    },
    {
      "cell_type": "code",
      "execution_count": 80,
      "metadata": {
        "colab": {
          "base_uri": "https://localhost:8080/"
        },
        "id": "TL8W5P-aqhcp",
        "outputId": "ef3022c0-6f3c-4d37-db45-3c4bc46ab99f"
      },
      "outputs": [
        {
          "output_type": "execute_result",
          "data": {
            "text/plain": [
              "(199, 2)"
            ]
          },
          "metadata": {},
          "execution_count": 80
        }
      ],
      "source": [
        "test.shape"
      ]
    },
    {
      "cell_type": "code",
      "execution_count": 81,
      "metadata": {
        "colab": {
          "base_uri": "https://localhost:8080/",
          "height": 285
        },
        "id": "6VamKKJCqhct",
        "outputId": "0eeb387d-d3ae-47fc-c6ad-3b97c3081a8d"
      },
      "outputs": [
        {
          "output_type": "display_data",
          "data": {
            "text/plain": [
              "<Figure size 432x288 with 1 Axes>"
            ],
            "image/png": "[encoded data removed]"
          },
          "metadata": {
            "needs_background": "light"
          }
        }
      ],
      "source": [
        "# visualising distribution of classes for each label.\n",
        "barWidth = 0.25\n",
        "\n",
        "bars1 = [sum(train['toxic'] == 1), sum(train['obscene'] == 1), sum(train['insult'] == 1), sum(train['severe_toxic'] == 1),\n",
        "         sum(train['identity_hate'] == 1), sum(train['threat'] == 1)]\n",
        "bars2 = [sum(train['toxic'] == 0), sum(train['obscene'] == 0), sum(train['insult'] == 0), sum(train['severe_toxic'] == 0),\n",
        "         sum(train['identity_hate'] == 0), sum(train['threat'] == 0)]\n",
        "\n",
        "r1 = np.arange(len(bars1))\n",
        "r2 = [x + barWidth for x in r1]\n",
        "\n",
        "plt.bar(r1, bars1, color='steelblue', width=barWidth, label='labeled = 1')\n",
        "plt.bar(r2, bars2, color='lightsteelblue', width=barWidth, label='labeled = 0')\n",
        "\n",
        "plt.xlabel('group', fontweight='bold')\n",
        "plt.xticks([r + barWidth for r in range(len(bars1))], ['Toxic', 'Obscene', 'Insult', 'Severe Toxic', 'Identity Hate',\n",
        "                                                       'Threat'])\n",
        "plt.legend()\n",
        "plt.show()"
      ]
    },
    {
      "cell_type": "code",
      "execution_count": 43,
      "metadata": {
        "colab": {
          "base_uri": "https://localhost:8080/",
          "height": 507
        },
        "id": "7-qq77N-qhcw",
        "outputId": "edd70fc0-aaf1-45af-b350-2ee8ae64f46d"
      },
      "outputs": [
        {
          "output_type": "execute_result",
          "data": {
            "text/plain": [
              "<matplotlib.axes._subplots.AxesSubplot at 0x7f003b8e6c90>"
            ]
          },
          "metadata": {},
          "execution_count": 43
        },
        {
          "output_type": "display_data",
          "data": {
            "text/plain": [
              "<Figure size 720x576 with 2 Axes>"
            ],
            "image/png": "[encoded data removed]"
          },
          "metadata": {}
        }
      ],
      "source": [
        "# Cross correlation matrix across labels\n",
        "rowsums = train.iloc[:, 2:].sum(axis=1)\n",
        "temp = train.iloc[:, 2:-1]\n",
        "train_corr = temp[rowsums > 0]\n",
        "corr = train_corr.corr()\n",
        "plt.figure(figsize=(10, 8))\n",
        "sns.heatmap(corr,\n",
        "            xticklabels=corr.columns.values,\n",
        "            yticklabels=corr.columns.values, annot=True, cmap=\"Blues\")"
      ]
    },
    {
      "cell_type": "code",
      "source": [
        "test_labels = [\"toxic\", \"severe_toxic\", \"obscene\",\n",
        "               \"threat\", \"insult\", \"identity_hate\"]"
      ],
      "metadata": {
        "id": "e9TxhwfY5C-T"
      },
      "execution_count": 84,
      "outputs": []
    },
    {
      "cell_type": "code",
      "execution_count": 85,
      "metadata": {
        "ExecuteTime": {
          "end_time": "2018-12-07T00:53:29.987740Z",
          "start_time": "2018-12-07T00:53:29.935384Z"
        },
        "id": "fj0mx_99qhcz"
      },
      "outputs": [],
      "source": [
        "def tokenize(text):\n",
        "    '''\n",
        "    Tokenize text and return a non-unique list of tokenized words found in the text. \n",
        "    Normalize to lowercase, strip punctuation, remove stop words, filter non-ascii characters.\n",
        "    Lemmatize the words and lastly drop words of length < 3.\n",
        "    '''\n",
        "    text = text.lower()\n",
        "    regex = re.compile('[' + re.escape(string.punctuation) + '0-9\\\\r\\\\t\\\\n]')\n",
        "    nopunct = regex.sub(\" \", text)\n",
        "    words = nopunct.split(' ')\n",
        "    # remove any non ascii\n",
        "    words = [word.encode('ascii', 'ignore').decode('ascii') for word in words]\n",
        "    lmtzr = WordNetLemmatizer()\n",
        "    words = [lmtzr.lemmatize(w) for w in words]\n",
        "    words = [w for w in words if len(w) > 2]\n",
        "    return words"
      ]
    },
    {
      "cell_type": "code",
      "source": [
        "import nltk\n",
        "nltk.download('wordnet')\n",
        "nltk.download('omw-1.4')"
      ],
      "metadata": {
        "colab": {
          "base_uri": "https://localhost:8080/"
        },
        "id": "bMu_A_kkuH9v",
        "outputId": "de8040a4-ea8e-4c5e-8e84-390481c7e2cd"
      },
      "execution_count": 86,
      "outputs": [
        {
          "output_type": "stream",
          "name": "stderr",
          "text": [
            "[nltk_data] Downloading package wordnet to /root/nltk_data...\n",
            "[nltk_data]   Package wordnet is already up-to-date!\n",
            "[nltk_data] Downloading package omw-1.4 to /root/nltk_data...\n",
            "[nltk_data]   Package omw-1.4 is already up-to-date!\n"
          ]
        },
        {
          "output_type": "execute_result",
          "data": {
            "text/plain": [
              "True"
            ]
          },
          "metadata": {},
          "execution_count": 86
        }
      ]
    },
    {
      "cell_type": "code",
      "execution_count": 89,
      "metadata": {
        "ExecuteTime": {
          "end_time": "2018-12-07T00:55:39.241928Z",
          "start_time": "2018-12-07T00:53:32.824099Z"
        },
        "id": "CbfOJ1epqhcz"
      },
      "outputs": [],
      "source": [
        "# using TFID model to reduce the impact of most frequent words in data\n",
        "vector = TfidfVectorizer(ngram_range=(1, 1), analyzer='word',\n",
        "                         tokenizer=tokenize, stop_words='english',\n",
        "                         strip_accents='unicode', use_idf=1, min_df=10)\n",
        "X_train = vector.fit_transform(train['comment_text'])\n",
        "X_test = vector.transform(test['comment_text'])"
      ]
    },
    {
      "cell_type": "code",
      "execution_count": 90,
      "metadata": {
        "ExecuteTime": {
          "end_time": "2018-12-07T00:55:39.286269Z",
          "start_time": "2018-12-07T00:55:39.282415Z"
        },
        "id": "t4UL0LvBqhc2"
      },
      "outputs": [],
      "source": [
        "# Creating classifiers with default parameters initially.\n",
        "clf1 = MultinomialNB()\n",
        "clf2 = LogisticRegression()\n",
        "clf3 = LinearSVC()"
      ]
    },
    {
      "cell_type": "code",
      "execution_count": 91,
      "metadata": {
        "ExecuteTime": {
          "end_time": "2018-12-07T00:55:39.293639Z",
          "start_time": "2018-12-07T00:55:39.289454Z"
        },
        "id": "s_X07qxMqhc2"
      },
      "outputs": [],
      "source": [
        "def cross_validation_score(classifier, X_train, y_train):\n",
        "    '''\n",
        "    Iterate though each label and return the cross validation F1 and Recall score \n",
        "    '''\n",
        "    methods = []\n",
        "    name = classifier.__class__.__name__.split('.')[-1]\n",
        "\n",
        "    for label in test_labels:\n",
        "        recall = cross_val_score(\n",
        "            classifier, X_train, y_train[label], cv=10, scoring='recall')\n",
        "        f1 = cross_val_score(classifier, X_train,\n",
        "                             y_train[label], cv=10, scoring='f1')\n",
        "        methods.append([name, label, recall.mean(), f1.mean()])\n",
        "\n",
        "    return methods"
      ]
    },
    {
      "cell_type": "code",
      "execution_count": 94,
      "metadata": {
        "ExecuteTime": {
          "end_time": "2018-12-07T00:58:38.057641Z",
          "start_time": "2018-12-07T00:55:39.296567Z"
        },
        "id": "-Go2BxHeqhc3"
      },
      "outputs": [],
      "source": [
        "# Calculating the cross validation F1 and Recall score for our 3 baseline models.\n",
        "methods1_cv = pd.DataFrame(cross_validation_score(clf1, X_train, train))\n",
        "methods2_cv = pd.DataFrame(cross_validation_score(clf2, X_train, train))\n",
        "methods3_cv = pd.DataFrame(cross_validation_score(clf3, X_train, train))"
      ]
    },
    {
      "cell_type": "code",
      "source": [
        "# summary of results.\n",
        "methods_cv = pd.concat([methods1_cv, methods2_cv, methods3_cv])\n",
        "methods_cv.columns = ['Model', 'Label', 'Recall', 'F1']\n",
        "meth_cv = methods_cv.reset_index()\n",
        "meth_cv[['Model', 'Label', 'Recall', 'F1']]"
      ],
      "metadata": {
        "colab": {
          "base_uri": "https://localhost:8080/",
          "height": 614
        },
        "id": "M0n5fOrk7qQG",
        "outputId": "01cd559d-6106-48e2-d54d-cafb77d2d44f"
      },
      "execution_count": 95,
      "outputs": [
        {
          "output_type": "execute_result",
          "data": {
            "text/plain": [
              "                 Model          Label    Recall        F1\n",
              "0        MultinomialNB          toxic  0.125000  0.196768\n",
              "1        MultinomialNB   severe_toxic  0.000000  0.000000\n",
              "2        MultinomialNB        obscene  0.100000  0.160000\n",
              "3        MultinomialNB         threat  0.000000  0.000000\n",
              "4        MultinomialNB         insult  0.050000  0.080000\n",
              "5        MultinomialNB  identity_hate  0.000000  0.000000\n",
              "6   LogisticRegression          toxic  0.075000  0.124444\n",
              "7   LogisticRegression   severe_toxic  0.000000  0.000000\n",
              "8   LogisticRegression        obscene  0.100000  0.160000\n",
              "9   LogisticRegression         threat  0.000000  0.000000\n",
              "10  LogisticRegression         insult  0.050000  0.080000\n",
              "11  LogisticRegression  identity_hate  0.000000  0.000000\n",
              "12           LinearSVC          toxic  0.209722  0.275608\n",
              "13           LinearSVC   severe_toxic  0.000000  0.000000\n",
              "14           LinearSVC        obscene  0.300000  0.396190\n",
              "15           LinearSVC         threat  0.000000  0.000000\n",
              "16           LinearSVC         insult  0.250000  0.313333\n",
              "17           LinearSVC  identity_hate  0.000000  0.000000"
            ],
            "text/html": [
              "\n",
              "  <div id=\"df-eebcb739-db57-4c4d-9f93-74e57dbe57e9\">\n",
              "    <div class=\"colab-df-container\">\n",
              "      <div>\n",
              "<style scoped>\n",
              "    .dataframe tbody tr th:only-of-type {\n",
              "        vertical-align: middle;\n",
              "    }\n",
              "\n",
              "    .dataframe tbody tr th {\n",
              "        vertical-align: top;\n",
              "    }\n",
              "\n",
              "    .dataframe thead th {\n",
              "        text-align: right;\n",
              "    }\n",
              "</style>\n",
              "<table border=\"1\" class=\"dataframe\">\n",
              "  <thead>\n",
              "    <tr style=\"text-align: right;\">\n",
              "      <th></th>\n",
              "      <th>Model</th>\n",
              "      <th>Label</th>\n",
              "      <th>Recall</th>\n",
              "      <th>F1</th>\n",
              "    </tr>\n",
              "  </thead>\n",
              "  <tbody>\n",
              "    <tr>\n",
              "      <th>0</th>\n",
              "      <td>MultinomialNB</td>\n",
              "      <td>toxic</td>\n",
              "      <td>0.125000</td>\n",
              "      <td>0.196768</td>\n",
              "    </tr>\n",
              "    <tr>\n",
              "      <th>1</th>\n",
              "      <td>MultinomialNB</td>\n",
              "      <td>severe_toxic</td>\n",
              "      <td>0.000000</td>\n",
              "      <td>0.000000</td>\n",
              "    </tr>\n",
              "    <tr>\n",
              "      <th>2</th>\n",
              "      <td>MultinomialNB</td>\n",
              "      <td>obscene</td>\n",
              "      <td>0.100000</td>\n",
              "      <td>0.160000</td>\n",
              "    </tr>\n",
              "    <tr>\n",
              "      <th>3</th>\n",
              "      <td>MultinomialNB</td>\n",
              "      <td>threat</td>\n",
              "      <td>0.000000</td>\n",
              "      <td>0.000000</td>\n",
              "    </tr>\n",
              "    <tr>\n",
              "      <th>4</th>\n",
              "      <td>MultinomialNB</td>\n",
              "      <td>insult</td>\n",
              "      <td>0.050000</td>\n",
              "      <td>0.080000</td>\n",
              "    </tr>\n",
              "    <tr>\n",
              "      <th>5</th>\n",
              "      <td>MultinomialNB</td>\n",
              "      <td>identity_hate</td>\n",
              "      <td>0.000000</td>\n",
              "      <td>0.000000</td>\n",
              "    </tr>\n",
              "    <tr>\n",
              "      <th>6</th>\n",
              "      <td>LogisticRegression</td>\n",
              "      <td>toxic</td>\n",
              "      <td>0.075000</td>\n",
              "      <td>0.124444</td>\n",
              "    </tr>\n",
              "    <tr>\n",
              "      <th>7</th>\n",
              "      <td>LogisticRegression</td>\n",
              "      <td>severe_toxic</td>\n",
              "      <td>0.000000</td>\n",
              "      <td>0.000000</td>\n",
              "    </tr>\n",
              "    <tr>\n",
              "      <th>8</th>\n",
              "      <td>LogisticRegression</td>\n",
              "      <td>obscene</td>\n",
              "      <td>0.100000</td>\n",
              "      <td>0.160000</td>\n",
              "    </tr>\n",
              "    <tr>\n",
              "      <th>9</th>\n",
              "      <td>LogisticRegression</td>\n",
              "      <td>threat</td>\n",
              "      <td>0.000000</td>\n",
              "      <td>0.000000</td>\n",
              "    </tr>\n",
              "    <tr>\n",
              "      <th>10</th>\n",
              "      <td>LogisticRegression</td>\n",
              "      <td>insult</td>\n",
              "      <td>0.050000</td>\n",
              "      <td>0.080000</td>\n",
              "    </tr>\n",
              "    <tr>\n",
              "      <th>11</th>\n",
              "      <td>LogisticRegression</td>\n",
              "      <td>identity_hate</td>\n",
              "      <td>0.000000</td>\n",
              "      <td>0.000000</td>\n",
              "    </tr>\n",
              "    <tr>\n",
              "      <th>12</th>\n",
              "      <td>LinearSVC</td>\n",
              "      <td>toxic</td>\n",
              "      <td>0.209722</td>\n",
              "      <td>0.275608</td>\n",
              "    </tr>\n",
              "    <tr>\n",
              "      <th>13</th>\n",
              "      <td>LinearSVC</td>\n",
              "      <td>severe_toxic</td>\n",
              "      <td>0.000000</td>\n",
              "      <td>0.000000</td>\n",
              "    </tr>\n",
              "    <tr>\n",
              "      <th>14</th>\n",
              "      <td>LinearSVC</td>\n",
              "      <td>obscene</td>\n",
              "      <td>0.300000</td>\n",
              "      <td>0.396190</td>\n",
              "    </tr>\n",
              "    <tr>\n",
              "      <th>15</th>\n",
              "      <td>LinearSVC</td>\n",
              "      <td>threat</td>\n",
              "      <td>0.000000</td>\n",
              "      <td>0.000000</td>\n",
              "    </tr>\n",
              "    <tr>\n",
              "      <th>16</th>\n",
              "      <td>LinearSVC</td>\n",
              "      <td>insult</td>\n",
              "      <td>0.250000</td>\n",
              "      <td>0.313333</td>\n",
              "    </tr>\n",
              "    <tr>\n",
              "      <th>17</th>\n",
              "      <td>LinearSVC</td>\n",
              "      <td>identity_hate</td>\n",
              "      <td>0.000000</td>\n",
              "      <td>0.000000</td>\n",
              "    </tr>\n",
              "  </tbody>\n",
              "</table>\n",
              "</div>\n",
              "      <button class=\"colab-df-convert\" onclick=\"convertToInteractive('df-eebcb739-db57-4c4d-9f93-74e57dbe57e9')\"\n",
              "              title=\"Convert this dataframe to an interactive table.\"\n",
              "              style=\"display:none;\">\n",
              "        \n",
              "  <svg xmlns=\"http://www.w3.org/2000/svg\" height=\"24px\"viewBox=\"0 0 24 24\"\n",
              "       width=\"24px\">\n",
              "    <path d=\"M0 0h24v24H0V0z\" fill=\"none\"/>\n",
              "    <path d=\"M18.56 5.44l.94 2.06.94-2.06 2.06-.94-2.06-.94-.94-2.06-.94 2.06-2.06.94zm-11 1L8.5 8.5l.94-2.06 2.06-.94-2.06-.94L8.5 2.5l-.94 2.06-2.06.94zm10 10l.94 2.06.94-2.06 2.06-.94-2.06-.94-.94-2.06-.94 2.06-2.06.94z\"/><path d=\"M17.41 7.96l-1.37-1.37c-.4-.4-.92-.59-1.43-.59-.52 0-1.04.2-1.43.59L10.3 9.45l-7.72 7.72c-.78.78-.78 2.05 0 2.83L4 21.41c.39.39.9.59 1.41.59.51 0 1.02-.2 1.41-.59l7.78-7.78 2.81-2.81c.8-.78.8-2.07 0-2.86zM5.41 20L4 18.59l7.72-7.72 1.47 1.35L5.41 20z\"/>\n",
              "  </svg>\n",
              "      </button>\n",
              "      \n",
              "  <style>\n",
              "    .colab-df-container {\n",
              "      display:flex;\n",
              "      flex-wrap:wrap;\n",
              "      gap: 12px;\n",
              "    }\n",
              "\n",
              "    .colab-df-convert {\n",
              "      background-color: #E8F0FE;\n",
              "      border: none;\n",
              "      border-radius: 50%;\n",
              "      cursor: pointer;\n",
              "      display: none;\n",
              "      fill: #1967D2;\n",
              "      height: 32px;\n",
              "      padding: 0 0 0 0;\n",
              "      width: 32px;\n",
              "    }\n",
              "\n",
              "    .colab-df-convert:hover {\n",
              "      background-color: #E2EBFA;\n",
              "      box-shadow: 0px 1px 2px rgba(60, 64, 67, 0.3), 0px 1px 3px 1px rgba(60, 64, 67, 0.15);\n",
              "      fill: #174EA6;\n",
              "    }\n",
              "\n",
              "    [theme=dark] .colab-df-convert {\n",
              "      background-color: #3B4455;\n",
              "      fill: #D2E3FC;\n",
              "    }\n",
              "\n",
              "    [theme=dark] .colab-df-convert:hover {\n",
              "      background-color: #434B5C;\n",
              "      box-shadow: 0px 1px 3px 1px rgba(0, 0, 0, 0.15);\n",
              "      filter: drop-shadow(0px 1px 2px rgba(0, 0, 0, 0.3));\n",
              "      fill: #FFFFFF;\n",
              "    }\n",
              "  </style>\n",
              "\n",
              "      <script>\n",
              "        const buttonEl =\n",
              "          document.querySelector('#df-eebcb739-db57-4c4d-9f93-74e57dbe57e9 button.colab-df-convert');\n",
              "        buttonEl.style.display =\n",
              "          google.colab.kernel.accessAllowed ? 'block' : 'none';\n",
              "\n",
              "        async function convertToInteractive(key) {\n",
              "          const element = document.querySelector('#df-eebcb739-db57-4c4d-9f93-74e57dbe57e9');\n",
              "          const dataTable =\n",
              "            await google.colab.kernel.invokeFunction('convertToInteractive',\n",
              "                                                     [key], {});\n",
              "          if (!dataTable) return;\n",
              "\n",
              "          const docLinkHtml = 'Like what you see? Visit the ' +\n",
              "            '<a target=\"_blank\" href=https://colab.research.google.com/notebooks/data_table.ipynb>data table notebook</a>'\n",
              "            + ' to learn more about interactive tables.';\n",
              "          element.innerHTML = '';\n",
              "          dataTable['output_type'] = 'display_data';\n",
              "          await google.colab.output.renderOutput(dataTable, element);\n",
              "          const docLink = document.createElement('div');\n",
              "          docLink.innerHTML = docLinkHtml;\n",
              "          element.appendChild(docLink);\n",
              "        }\n",
              "      </script>\n",
              "    </div>\n",
              "  </div>\n",
              "  "
            ]
          },
          "metadata": {},
          "execution_count": 95
        }
      ]
    },
    {
      "cell_type": "code",
      "execution_count": 57,
      "metadata": {
        "ExecuteTime": {
          "end_time": "2018-12-07T00:58:38.091928Z",
          "start_time": "2018-12-07T00:58:38.085881Z"
        },
        "id": "95iC3R33qhc4"
      },
      "outputs": [],
      "source": [
        "def score(classifier, X_train, y_train, X_test, y_test):\n",
        "    \"\"\"\n",
        "    Calculate Hamming-loss, F1, Recall for each label on test dataset.\n",
        "    \"\"\"\n",
        "    methods = []\n",
        "    hloss = []\n",
        "    name = classifier.__class__.__name__.split('.')[-1]\n",
        "    predict_df = pd.DataFrame()\n",
        "    predict_df['id'] = test_y['id']\n",
        "\n",
        "    for label in test_labels:\n",
        "        classifier.fit(X_train, y_train[label])\n",
        "        predicted = classifier.predict(X_test)\n",
        "\n",
        "        predict_df[label] = predicted\n",
        "\n",
        "        recall = recall_score(y_test[y_test[label] != -1][label],\n",
        "                              predicted[y_test[label] != -1],\n",
        "                              average=\"weighted\")\n",
        "        f1 = f1_score(y_test[y_test[label] != -1][label],\n",
        "                      predicted[y_test[label] != -1],\n",
        "                      average=\"weighted\")\n",
        "\n",
        "        conf_mat = confusion_matrix(y_test[y_test[label] != -1][label],\n",
        "                                    predicted[y_test[label] != -1])\n",
        "\n",
        "        methods.append([name, label, recall, f1, conf_mat])\n",
        "\n",
        "    hamming_loss_score = hamming_loss(test_y[test_y['toxic'] != -1].iloc[:, 1:7],\n",
        "                                      predict_df[test_y['toxic'] != -1].iloc[:, 1:7])\n",
        "    hloss.append([name, hamming_loss_score])\n",
        "\n",
        "    return hloss, methods"
      ]
    },
    {
      "cell_type": "code",
      "execution_count": 58,
      "metadata": {
        "ExecuteTime": {
          "end_time": "2018-12-07T00:58:49.204719Z",
          "start_time": "2018-12-07T00:58:38.094900Z"
        },
        "id": "tVmaoWRkqhc5"
      },
      "outputs": [],
      "source": [
        "# Calculating the Hamming-loss F1 and Recall score for our 3 baseline models.\n",
        "h1, methods1 = score(clf1, X_train, train, X_test, test_y)\n",
        "h2, methods2 = score(clf2, X_train, train, X_test, test_y)\n",
        "h3, methods3 = score(clf3, X_train, train, X_test, test_y)"
      ]
    },
    {
      "cell_type": "code",
      "execution_count": 59,
      "metadata": {
        "ExecuteTime": {
          "end_time": "2018-12-07T00:58:49.226412Z",
          "start_time": "2018-12-07T00:58:49.206657Z"
        },
        "scrolled": true,
        "colab": {
          "base_uri": "https://localhost:8080/",
          "height": 614
        },
        "id": "izIErvGMqhc5",
        "outputId": "023491ce-18e3-4a8c-bc91-8596c21395ce"
      },
      "outputs": [
        {
          "output_type": "execute_result",
          "data": {
            "text/plain": [
              "                 Model          Label  Recall        F1\n",
              "0        MultinomialNB          toxic  0.9500  0.933983\n",
              "1        MultinomialNB   severe_toxic  1.0000  1.000000\n",
              "2        MultinomialNB        obscene  0.9750  0.968910\n",
              "3        MultinomialNB         threat  1.0000  1.000000\n",
              "4        MultinomialNB         insult  0.9625  0.944108\n",
              "5        MultinomialNB  identity_hate  0.9875  0.981289\n",
              "6   LogisticRegression          toxic  0.9500  0.933983\n",
              "7   LogisticRegression   severe_toxic  1.0000  1.000000\n",
              "8   LogisticRegression        obscene  0.9750  0.968910\n",
              "9   LogisticRegression         threat  1.0000  1.000000\n",
              "10  LogisticRegression         insult  0.9750  0.968910\n",
              "11  LogisticRegression  identity_hate  0.9875  0.981289\n",
              "12           LinearSVC          toxic  0.9125  0.907929\n",
              "13           LinearSVC   severe_toxic  1.0000  1.000000\n",
              "14           LinearSVC        obscene  0.9625  0.958871\n",
              "15           LinearSVC         threat  1.0000  1.000000\n",
              "16           LinearSVC         insult  0.9625  0.958871\n",
              "17           LinearSVC  identity_hate  0.9875  0.981289"
            ],
            "text/html": [
              "\n",
              "  <div id=\"df-17b518a2-213b-4e09-9ebe-915547e06ab4\">\n",
              "    <div class=\"colab-df-container\">\n",
              "      <div>\n",
              "<style scoped>\n",
              "    .dataframe tbody tr th:only-of-type {\n",
              "        vertical-align: middle;\n",
              "    }\n",
              "\n",
              "    .dataframe tbody tr th {\n",
              "        vertical-align: top;\n",
              "    }\n",
              "\n",
              "    .dataframe thead th {\n",
              "        text-align: right;\n",
              "    }\n",
              "</style>\n",
              "<table border=\"1\" class=\"dataframe\">\n",
              "  <thead>\n",
              "    <tr style=\"text-align: right;\">\n",
              "      <th></th>\n",
              "      <th>Model</th>\n",
              "      <th>Label</th>\n",
              "      <th>Recall</th>\n",
              "      <th>F1</th>\n",
              "    </tr>\n",
              "  </thead>\n",
              "  <tbody>\n",
              "    <tr>\n",
              "      <th>0</th>\n",
              "      <td>MultinomialNB</td>\n",
              "      <td>toxic</td>\n",
              "      <td>0.9500</td>\n",
              "      <td>0.933983</td>\n",
              "    </tr>\n",
              "    <tr>\n",
              "      <th>1</th>\n",
              "      <td>MultinomialNB</td>\n",
              "      <td>severe_toxic</td>\n",
              "      <td>1.0000</td>\n",
              "      <td>1.000000</td>\n",
              "    </tr>\n",
              "    <tr>\n",
              "      <th>2</th>\n",
              "      <td>MultinomialNB</td>\n",
              "      <td>obscene</td>\n",
              "      <td>0.9750</td>\n",
              "      <td>0.968910</td>\n",
              "    </tr>\n",
              "    <tr>\n",
              "      <th>3</th>\n",
              "      <td>MultinomialNB</td>\n",
              "      <td>threat</td>\n",
              "      <td>1.0000</td>\n",
              "      <td>1.000000</td>\n",
              "    </tr>\n",
              "    <tr>\n",
              "      <th>4</th>\n",
              "      <td>MultinomialNB</td>\n",
              "      <td>insult</td>\n",
              "      <td>0.9625</td>\n",
              "      <td>0.944108</td>\n",
              "    </tr>\n",
              "    <tr>\n",
              "      <th>5</th>\n",
              "      <td>MultinomialNB</td>\n",
              "      <td>identity_hate</td>\n",
              "      <td>0.9875</td>\n",
              "      <td>0.981289</td>\n",
              "    </tr>\n",
              "    <tr>\n",
              "      <th>6</th>\n",
              "      <td>LogisticRegression</td>\n",
              "      <td>toxic</td>\n",
              "      <td>0.9500</td>\n",
              "      <td>0.933983</td>\n",
              "    </tr>\n",
              "    <tr>\n",
              "      <th>7</th>\n",
              "      <td>LogisticRegression</td>\n",
              "      <td>severe_toxic</td>\n",
              "      <td>1.0000</td>\n",
              "      <td>1.000000</td>\n",
              "    </tr>\n",
              "    <tr>\n",
              "      <th>8</th>\n",
              "      <td>LogisticRegression</td>\n",
              "      <td>obscene</td>\n",
              "      <td>0.9750</td>\n",
              "      <td>0.968910</td>\n",
              "    </tr>\n",
              "    <tr>\n",
              "      <th>9</th>\n",
              "      <td>LogisticRegression</td>\n",
              "      <td>threat</td>\n",
              "      <td>1.0000</td>\n",
              "      <td>1.000000</td>\n",
              "    </tr>\n",
              "    <tr>\n",
              "      <th>10</th>\n",
              "      <td>LogisticRegression</td>\n",
              "      <td>insult</td>\n",
              "      <td>0.9750</td>\n",
              "      <td>0.968910</td>\n",
              "    </tr>\n",
              "    <tr>\n",
              "      <th>11</th>\n",
              "      <td>LogisticRegression</td>\n",
              "      <td>identity_hate</td>\n",
              "      <td>0.9875</td>\n",
              "      <td>0.981289</td>\n",
              "    </tr>\n",
              "    <tr>\n",
              "      <th>12</th>\n",
              "      <td>LinearSVC</td>\n",
              "      <td>toxic</td>\n",
              "      <td>0.9125</td>\n",
              "      <td>0.907929</td>\n",
              "    </tr>\n",
              "    <tr>\n",
              "      <th>13</th>\n",
              "      <td>LinearSVC</td>\n",
              "      <td>severe_toxic</td>\n",
              "      <td>1.0000</td>\n",
              "      <td>1.000000</td>\n",
              "    </tr>\n",
              "    <tr>\n",
              "      <th>14</th>\n",
              "      <td>LinearSVC</td>\n",
              "      <td>obscene</td>\n",
              "      <td>0.9625</td>\n",
              "      <td>0.958871</td>\n",
              "    </tr>\n",
              "    <tr>\n",
              "      <th>15</th>\n",
              "      <td>LinearSVC</td>\n",
              "      <td>threat</td>\n",
              "      <td>1.0000</td>\n",
              "      <td>1.000000</td>\n",
              "    </tr>\n",
              "    <tr>\n",
              "      <th>16</th>\n",
              "      <td>LinearSVC</td>\n",
              "      <td>insult</td>\n",
              "      <td>0.9625</td>\n",
              "      <td>0.958871</td>\n",
              "    </tr>\n",
              "    <tr>\n",
              "      <th>17</th>\n",
              "      <td>LinearSVC</td>\n",
              "      <td>identity_hate</td>\n",
              "      <td>0.9875</td>\n",
              "      <td>0.981289</td>\n",
              "    </tr>\n",
              "  </tbody>\n",
              "</table>\n",
              "</div>\n",
              "      <button class=\"colab-df-convert\" onclick=\"convertToInteractive('df-17b518a2-213b-4e09-9ebe-915547e06ab4')\"\n",
              "              title=\"Convert this dataframe to an interactive table.\"\n",
              "              style=\"display:none;\">\n",
              "        \n",
              "  <svg xmlns=\"http://www.w3.org/2000/svg\" height=\"24px\"viewBox=\"0 0 24 24\"\n",
              "       width=\"24px\">\n",
              "    <path d=\"M0 0h24v24H0V0z\" fill=\"none\"/>\n",
              "    <path d=\"M18.56 5.44l.94 2.06.94-2.06 2.06-.94-2.06-.94-.94-2.06-.94 2.06-2.06.94zm-11 1L8.5 8.5l.94-2.06 2.06-.94-2.06-.94L8.5 2.5l-.94 2.06-2.06.94zm10 10l.94 2.06.94-2.06 2.06-.94-2.06-.94-.94-2.06-.94 2.06-2.06.94z\"/><path d=\"M17.41 7.96l-1.37-1.37c-.4-.4-.92-.59-1.43-.59-.52 0-1.04.2-1.43.59L10.3 9.45l-7.72 7.72c-.78.78-.78 2.05 0 2.83L4 21.41c.39.39.9.59 1.41.59.51 0 1.02-.2 1.41-.59l7.78-7.78 2.81-2.81c.8-.78.8-2.07 0-2.86zM5.41 20L4 18.59l7.72-7.72 1.47 1.35L5.41 20z\"/>\n",
              "  </svg>\n",
              "      </button>\n",
              "      \n",
              "  <style>\n",
              "    .colab-df-container {\n",
              "      display:flex;\n",
              "      flex-wrap:wrap;\n",
              "      gap: 12px;\n",
              "    }\n",
              "\n",
              "    .colab-df-convert {\n",
              "      background-color: #E8F0FE;\n",
              "      border: none;\n",
              "      border-radius: 50%;\n",
              "      cursor: pointer;\n",
              "      display: none;\n",
              "      fill: #1967D2;\n",
              "      height: 32px;\n",
              "      padding: 0 0 0 0;\n",
              "      width: 32px;\n",
              "    }\n",
              "\n",
              "    .colab-df-convert:hover {\n",
              "      background-color: #E2EBFA;\n",
              "      box-shadow: 0px 1px 2px rgba(60, 64, 67, 0.3), 0px 1px 3px 1px rgba(60, 64, 67, 0.15);\n",
              "      fill: #174EA6;\n",
              "    }\n",
              "\n",
              "    [theme=dark] .colab-df-convert {\n",
              "      background-color: #3B4455;\n",
              "      fill: #D2E3FC;\n",
              "    }\n",
              "\n",
              "    [theme=dark] .colab-df-convert:hover {\n",
              "      background-color: #434B5C;\n",
              "      box-shadow: 0px 1px 3px 1px rgba(0, 0, 0, 0.15);\n",
              "      filter: drop-shadow(0px 1px 2px rgba(0, 0, 0, 0.3));\n",
              "      fill: #FFFFFF;\n",
              "    }\n",
              "  </style>\n",
              "\n",
              "      <script>\n",
              "        const buttonEl =\n",
              "          document.querySelector('#df-17b518a2-213b-4e09-9ebe-915547e06ab4 button.colab-df-convert');\n",
              "        buttonEl.style.display =\n",
              "          google.colab.kernel.accessAllowed ? 'block' : 'none';\n",
              "\n",
              "        async function convertToInteractive(key) {\n",
              "          const element = document.querySelector('#df-17b518a2-213b-4e09-9ebe-915547e06ab4');\n",
              "          const dataTable =\n",
              "            await google.colab.kernel.invokeFunction('convertToInteractive',\n",
              "                                                     [key], {});\n",
              "          if (!dataTable) return;\n",
              "\n",
              "          const docLinkHtml = 'Like what you see? Visit the ' +\n",
              "            '<a target=\"_blank\" href=https://colab.research.google.com/notebooks/data_table.ipynb>data table notebook</a>'\n",
              "            + ' to learn more about interactive tables.';\n",
              "          element.innerHTML = '';\n",
              "          dataTable['output_type'] = 'display_data';\n",
              "          await google.colab.output.renderOutput(dataTable, element);\n",
              "          const docLink = document.createElement('div');\n",
              "          docLink.innerHTML = docLinkHtml;\n",
              "          element.appendChild(docLink);\n",
              "        }\n",
              "      </script>\n",
              "    </div>\n",
              "  </div>\n",
              "  "
            ]
          },
          "metadata": {},
          "execution_count": 59
        }
      ],
      "source": [
        "# Creating a dataframe to show summary of results.\n",
        "methods1 = pd.DataFrame(methods1)\n",
        "methods2 = pd.DataFrame(methods2)\n",
        "methods3 = pd.DataFrame(methods3)\n",
        "methods = pd.concat([methods1, methods2, methods3])\n",
        "methods.columns = ['Model', 'Label', 'Recall', 'F1', 'Confusion_Matrix']\n",
        "meth = methods.reset_index()\n",
        "meth[['Model', 'Label', 'Recall', 'F1']]"
      ]
    }
  ],
  "metadata": {
    "kernelspec": {
      "display_name": "Python 3",
      "language": "python",
      "name": "python3"
    },
    "language_info": {
      "codemirror_mode": {
        "name": "ipython",
        "version": 3
      },
      "file_extension": ".py",
      "mimetype": "text/x-python",
      "name": "python",
      "nbconvert_exporter": "python",
      "pygments_lexer": "ipython3",
      "version": "3.6.5"
    },
    "colab": {
      "name": "Q2.ipynb",
      "provenance": []
    }
  },
  "nbformat": 4,
  "nbformat_minor": 0
}